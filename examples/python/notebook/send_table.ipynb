{
 "cells": [
  {
   "cell_type": "markdown",
   "id": "85c477c3-5f26-4294-a2ea-4042a0c38b7f",
   "metadata": {},
   "source": [
    "### How to run\n",
    "\n",
    "```sh\n",
    "# pixi run py-build-examples\n",
    "# pixi run -e examples py-build-notebook\n",
    "# pixi run -e examples jupyter notebook examples/python/notebook/send_table.ipynb\n",
    "```"
   ]
  },
  {
   "cell_type": "markdown",
   "id": "b38ebc1f-1d6b-4d18-85e4-e71713280b6b",
   "metadata": {},
   "source": [
    "## Inline viewer"
   ]
  },
  {
   "cell_type": "code",
   "execution_count": 3,
   "id": "e5789224-afa8-4250-9eae-2ca570d46088",
   "metadata": {},
   "outputs": [],
   "source": [
    "from __future__ import annotations\n",
    "\n",
    "import os\n",
    "\n",
    "os.environ[\"RERUN_NOTEBOOK_ASSET\"] = \"inline\"\n",
    "\n",
    "import numpy as np\n",
    "import pandas as pd\n",
    "import pyarrow as pa\n",
    "import rerun as rr"
   ]
  },
  {
   "cell_type": "markdown",
   "id": "e317e818-4a96-4c63-a9a0-cce25073b2e5",
   "metadata": {},
   "source": [
    "### Send a basic table"
   ]
  },
  {
   "cell_type": "code",
   "execution_count": 28,
   "id": "aea716a4-164c-436f-9b6a-ca6f171214b5",
   "metadata": {},
   "outputs": [
    {
     "data": {
      "application/vnd.jupyter.widget-view+json": {
       "model_id": "f8f42583b7934f44a9a8660355fcda4d",
       "version_major": 2,
       "version_minor": 1
      },
      "text/plain": [
       "Viewer()"
      ]
     },
     "metadata": {},
     "output_type": "display_data"
    }
   ],
   "source": [
    "viewer = rr.notebook.Viewer(width=1024, height=200)\n",
    "viewer.display()\n",
    "viewer.send_table(\n",
    "    \"Hello from Notebook\",\n",
    "    pa.RecordBatch.from_pydict({\"Column A\": [1, 2, 3], \"Column B\": [\"https://www.rerun.io\", \"Hello\", \"World\"]}),\n",
    ")"
   ]
  },
  {
   "cell_type": "markdown",
   "id": "59ebc9cb-cb8f-47e9-9beb-a9ff96a7ca17",
   "metadata": {},
   "source": [
    "### Send a Pandas dataframe"
   ]
  },
  {
   "cell_type": "code",
   "execution_count": 22,
   "id": "e15fcb31-4e74-47f9-9eba-b6bcdc545c2b",
   "metadata": {},
   "outputs": [
    {
     "data": {
      "text/html": [
       "<div>\n",
       "<style scoped>\n",
       "    .dataframe tbody tr th:only-of-type {\n",
       "        vertical-align: middle;\n",
       "    }\n",
       "\n",
       "    .dataframe tbody tr th {\n",
       "        vertical-align: top;\n",
       "    }\n",
       "\n",
       "    .dataframe thead th {\n",
       "        text-align: right;\n",
       "    }\n",
       "</style>\n",
       "<table border=\"1\" class=\"dataframe\">\n",
       "  <thead>\n",
       "    <tr style=\"text-align: right;\">\n",
       "      <th></th>\n",
       "      <th>A</th>\n",
       "      <th>B</th>\n",
       "      <th>C</th>\n",
       "      <th>D</th>\n",
       "    </tr>\n",
       "  </thead>\n",
       "  <tbody>\n",
       "    <tr>\n",
       "      <th>2013-01-01</th>\n",
       "      <td>0.352556</td>\n",
       "      <td>-0.416845</td>\n",
       "      <td>0.971795</td>\n",
       "      <td>0.476281</td>\n",
       "    </tr>\n",
       "    <tr>\n",
       "      <th>2013-01-02</th>\n",
       "      <td>1.511818</td>\n",
       "      <td>0.304362</td>\n",
       "      <td>-1.639912</td>\n",
       "      <td>0.596259</td>\n",
       "    </tr>\n",
       "    <tr>\n",
       "      <th>2013-01-03</th>\n",
       "      <td>0.502626</td>\n",
       "      <td>-2.330325</td>\n",
       "      <td>-0.778398</td>\n",
       "      <td>-0.237492</td>\n",
       "    </tr>\n",
       "    <tr>\n",
       "      <th>2013-01-04</th>\n",
       "      <td>-0.566282</td>\n",
       "      <td>-0.744080</td>\n",
       "      <td>0.084999</td>\n",
       "      <td>0.227186</td>\n",
       "    </tr>\n",
       "    <tr>\n",
       "      <th>2013-01-05</th>\n",
       "      <td>0.255141</td>\n",
       "      <td>1.034414</td>\n",
       "      <td>-1.169499</td>\n",
       "      <td>0.222116</td>\n",
       "    </tr>\n",
       "    <tr>\n",
       "      <th>2013-01-06</th>\n",
       "      <td>0.534286</td>\n",
       "      <td>0.958904</td>\n",
       "      <td>0.148408</td>\n",
       "      <td>-0.128695</td>\n",
       "    </tr>\n",
       "  </tbody>\n",
       "</table>\n",
       "</div>"
      ],
      "text/plain": [
       "                   A         B         C         D\n",
       "2013-01-01  0.352556 -0.416845  0.971795  0.476281\n",
       "2013-01-02  1.511818  0.304362 -1.639912  0.596259\n",
       "2013-01-03  0.502626 -2.330325 -0.778398 -0.237492\n",
       "2013-01-04 -0.566282 -0.744080  0.084999  0.227186\n",
       "2013-01-05  0.255141  1.034414 -1.169499  0.222116\n",
       "2013-01-06  0.534286  0.958904  0.148408 -0.128695"
      ]
     },
     "execution_count": 22,
     "metadata": {},
     "output_type": "execute_result"
    }
   ],
   "source": [
    "dates = pd.date_range(\"20130101\", periods=6)\n",
    "df = pd.DataFrame(np.random.randn(6, 4), index=dates, columns=list(\"ABCD\"))\n",
    "df_reset = df.reset_index().rename(columns={'index': 'date'})\n",
    "df"
   ]
  },
  {
   "cell_type": "markdown",
   "id": "e9c6b95c-52a1-407c-a428-94f1662879f5",
   "metadata": {},
   "source": [
    "### Send a Pandas dataframe"
   ]
  },
  {
   "cell_type": "code",
   "execution_count": 24,
   "id": "837e06ba-ad72-4dff-a6f4-5e7e211a137d",
   "metadata": {},
   "outputs": [
    {
     "data": {
      "application/vnd.jupyter.widget-view+json": {
       "model_id": "cbfa936a876542faadccb62683fa82fd",
       "version_major": 2,
       "version_minor": 1
      },
      "text/plain": [
       "Viewer()"
      ]
     },
     "metadata": {},
     "output_type": "display_data"
    }
   ],
   "source": [
    "viewer = rr.notebook.Viewer(width=1024, height=350)\n",
    "viewer.display()\n",
    "viewer.send_table(\"Hello from Pandas\", pa.RecordBatch.from_pandas(df))"
   ]
  },
  {
   "cell_type": "markdown",
   "id": "44751417-b9e4-4f49-94b4-934546d3a8d1",
   "metadata": {},
   "source": [
    "## SDK + Native viewer"
   ]
  },
  {
   "cell_type": "code",
   "execution_count": 6,
   "id": "ecd9f116-c6ab-4001-9529-c55dfb8794a0",
   "metadata": {},
   "outputs": [
    {
     "name": "stdout",
     "output_type": "stream",
     "text": [
      "Serving rerun notebook assets at http://127.0.0.1:51855\n"
     ]
    },
    {
     "name": "stderr",
     "output_type": "stream",
     "text": [
      "DEV ENVIRONMENT DETECTED! Re-importing rerun from: /Users/goertler/Developer/rerun-io/rerun/rerun_py/rerun_sdk\n"
     ]
    }
   ],
   "source": [
    "import os\n",
    "\n",
    "os.environ[\"RERUN_NOTEBOOK_ASSET\"] = \"serve-local\"\n",
    "\n",
    "import numpy as np\n",
    "import pandas as pd\n",
    "import pyarrow as pa\n",
    "import rerun as rr\n",
    "\n",
    "from rerun_bindings import ViewerClient"
   ]
  },
  {
   "cell_type": "code",
   "execution_count": 7,
   "id": "3374e673-368f-44d7-9545-05420a81de5b",
   "metadata": {},
   "outputs": [],
   "source": [
    "client = ViewerClient(addr=\"rerun+http://0.0.0.0:9876\")"
   ]
  },
  {
   "cell_type": "markdown",
   "id": "4da18888-9721-4219-bbd9-9cf19e60b48d",
   "metadata": {},
   "source": [
    "### Send a basic table"
   ]
  },
  {
   "cell_type": "code",
   "execution_count": 8,
   "id": "99b9192b-fdb5-48fe-9902-9cab5f273edf",
   "metadata": {},
   "outputs": [],
   "source": [
    "client.send_table(\n",
    "    \"Hello from Notebook\",\n",
    "    pa.RecordBatch.from_pydict({\"Column A\": [1, 2, 3], \"Column B\": [\"https://www.rerun.io\", \"Hello\", \"World\"]}),\n",
    ")"
   ]
  },
  {
   "cell_type": "markdown",
   "id": "0c2d65cd-e3e6-4f8c-80be-c1635ee36b64",
   "metadata": {},
   "source": [
    "### Send a Pandas dataframe"
   ]
  },
  {
   "cell_type": "code",
   "execution_count": 31,
   "id": "1fcb9550-ae01-4509-988b-177e188dca28",
   "metadata": {},
   "outputs": [],
   "source": [
    "client.send_table(\"Hello from Pandas\", pa.RecordBatch.from_pandas(df))"
   ]
  }
 ],
 "metadata": {
  "kernelspec": {
   "display_name": "Python 3 (ipykernel)",
   "language": "python",
   "name": "python3"
  },
  "language_info": {
   "codemirror_mode": {
    "name": "ipython",
    "version": 3
   },
   "file_extension": ".py",
   "mimetype": "text/x-python",
   "name": "python",
   "nbconvert_exporter": "python",
   "pygments_lexer": "ipython3",
   "version": "3.11.10"
  }
 },
 "nbformat": 4,
 "nbformat_minor": 5
}
