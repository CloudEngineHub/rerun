{
 "cells": [
  {
   "cell_type": "code",
   "execution_count": 1,
   "id": "ef6e588c-0ba8-4ce7-b22d-7f640656176c",
   "metadata": {},
   "outputs": [],
   "source": [
    "# pixi run py-build-examples\n",
    "# pixi run -e examples py-build-notebook\n",
    "# pixi run -e examples jupyter notebook /path/to/dataplatform/Indexing.ipynb"
   ]
  },
  {
   "cell_type": "code",
   "execution_count": 1,
   "id": "e5789224-afa8-4250-9eae-2ca570d46088",
   "metadata": {},
   "outputs": [],
   "source": [
    "from __future__ import annotations\n",
    "\n",
    "import os\n",
    "\n",
    "# os.environ[\"RERUN_NOTEBOOK_ASSET\"] = \"serve-local\"\n",
    "os.environ[\"RERUN_NOTEBOOK_ASSET\"] = \"inline\""
   ]
  },
  {
   "cell_type": "code",
   "execution_count": 2,
   "id": "c993d2ab-5bbb-4af0-89a5-1c370b7b9523",
   "metadata": {},
   "outputs": [
    {
     "name": "stderr",
     "output_type": "stream",
     "text": [
      "DEV ENVIRONMENT DETECTED! Re-importing rerun from: /Users/goertler/Developer/rerun-io/rerun/rerun_py/rerun_sdk\n"
     ]
    }
   ],
   "source": [
    "import rerun as rr\n",
    "\n",
    "import pyarrow as pa\n",
    "import pandas as pd\n",
    "import numpy as np\n",
    "import datafusion\n",
    "\n",
    "from rerun_bindings import ViewerClient"
   ]
  },
  {
   "cell_type": "markdown",
   "id": "e317e818-4a96-4c63-a9a0-cce25073b2e5",
   "metadata": {},
   "source": [
    "### Connect to the Rerun viewer using new API"
   ]
  },
  {
   "cell_type": "code",
   "execution_count": 8,
   "id": "eb76f8d8-13d3-456e-b36f-a43db64327cc",
   "metadata": {},
   "outputs": [],
   "source": [
    "# client = ViewerClient(addr=\"rerun+http://0.0.0.0:9876\")"
   ]
  },
  {
   "cell_type": "code",
   "execution_count": 3,
   "id": "aea716a4-164c-436f-9b6a-ca6f171214b5",
   "metadata": {},
   "outputs": [
    {
     "data": {
      "application/vnd.jupyter.widget-view+json": {
       "model_id": "d5a01c53fb724a76809abc94a94e36cb",
       "version_major": 2,
       "version_minor": 1
      },
      "text/plain": [
       "Viewer()"
      ]
     },
     "metadata": {},
     "output_type": "display_data"
    }
   ],
   "source": [
    "viewer = rr.notebook.Viewer(width=1024, height=700)\n",
    "viewer.display()"
   ]
  },
  {
   "cell_type": "markdown",
   "id": "c37414ae-0e1b-4c27-83ae-ca3dba9a42b0",
   "metadata": {},
   "source": [
    "### Send a basic table"
   ]
  },
  {
   "cell_type": "code",
   "execution_count": 4,
   "id": "480cd402-0e6b-42bd-ab13-299fdb4324d0",
   "metadata": {},
   "outputs": [],
   "source": [
    "viewer.send_table(\n",
    "    \"Hello from Notebook\",\n",
    "    pa.RecordBatch.from_pydict({\"Column A\": [1, 2, 3], \"Column B\": [\"https://www.rerun.io\", \"Hello\", \"World\"]}),\n",
    ")"
   ]
  },
  {
   "cell_type": "markdown",
   "id": "59ebc9cb-cb8f-47e9-9beb-a9ff96a7ca17",
   "metadata": {},
   "source": [
    "### Send a Pandas Dataframe"
   ]
  },
  {
   "cell_type": "code",
   "execution_count": 34,
   "id": "e15fcb31-4e74-47f9-9eba-b6bcdc545c2b",
   "metadata": {},
   "outputs": [
    {
     "data": {
      "text/html": [
       "<div>\n",
       "<style scoped>\n",
       "    .dataframe tbody tr th:only-of-type {\n",
       "        vertical-align: middle;\n",
       "    }\n",
       "\n",
       "    .dataframe tbody tr th {\n",
       "        vertical-align: top;\n",
       "    }\n",
       "\n",
       "    .dataframe thead th {\n",
       "        text-align: right;\n",
       "    }\n",
       "</style>\n",
       "<table border=\"1\" class=\"dataframe\">\n",
       "  <thead>\n",
       "    <tr style=\"text-align: right;\">\n",
       "      <th></th>\n",
       "      <th>A</th>\n",
       "      <th>B</th>\n",
       "      <th>C</th>\n",
       "      <th>D</th>\n",
       "    </tr>\n",
       "  </thead>\n",
       "  <tbody>\n",
       "    <tr>\n",
       "      <th>2013-01-01</th>\n",
       "      <td>-0.167462</td>\n",
       "      <td>-1.908861</td>\n",
       "      <td>-2.558886</td>\n",
       "      <td>0.872520</td>\n",
       "    </tr>\n",
       "    <tr>\n",
       "      <th>2013-01-02</th>\n",
       "      <td>-1.319389</td>\n",
       "      <td>0.774815</td>\n",
       "      <td>-0.393330</td>\n",
       "      <td>-0.895299</td>\n",
       "    </tr>\n",
       "    <tr>\n",
       "      <th>2013-01-03</th>\n",
       "      <td>-1.292820</td>\n",
       "      <td>-0.431619</td>\n",
       "      <td>-0.740074</td>\n",
       "      <td>1.202464</td>\n",
       "    </tr>\n",
       "    <tr>\n",
       "      <th>2013-01-04</th>\n",
       "      <td>-0.293862</td>\n",
       "      <td>-0.936821</td>\n",
       "      <td>-0.135840</td>\n",
       "      <td>0.341631</td>\n",
       "    </tr>\n",
       "    <tr>\n",
       "      <th>2013-01-05</th>\n",
       "      <td>1.743247</td>\n",
       "      <td>2.041301</td>\n",
       "      <td>1.658495</td>\n",
       "      <td>-0.820803</td>\n",
       "    </tr>\n",
       "    <tr>\n",
       "      <th>2013-01-06</th>\n",
       "      <td>-0.069138</td>\n",
       "      <td>0.309457</td>\n",
       "      <td>-0.611314</td>\n",
       "      <td>-0.810606</td>\n",
       "    </tr>\n",
       "  </tbody>\n",
       "</table>\n",
       "</div>"
      ],
      "text/plain": [
       "                   A         B         C         D\n",
       "2013-01-01 -0.167462 -1.908861 -2.558886  0.872520\n",
       "2013-01-02 -1.319389  0.774815 -0.393330 -0.895299\n",
       "2013-01-03 -1.292820 -0.431619 -0.740074  1.202464\n",
       "2013-01-04 -0.293862 -0.936821 -0.135840  0.341631\n",
       "2013-01-05  1.743247  2.041301  1.658495 -0.820803\n",
       "2013-01-06 -0.069138  0.309457 -0.611314 -0.810606"
      ]
     },
     "execution_count": 34,
     "metadata": {},
     "output_type": "execute_result"
    }
   ],
   "source": [
    "dates = pd.date_range(\"20130101\", periods=6)\n",
    "df = pd.DataFrame(np.random.randn(6, 4), index=dates, columns=list(\"ABCD\"))\n",
    "df_reset = df.reset_index().rename(columns={'index': 'date'})\n",
    "df"
   ]
  },
  {
   "cell_type": "code",
   "execution_count": 35,
   "id": "837e06ba-ad72-4dff-a6f4-5e7e211a137d",
   "metadata": {},
   "outputs": [],
   "source": [
    "client.send_table(\"Hello from Pandas\", pa.RecordBatch.from_pandas(df))"
   ]
  },
  {
   "cell_type": "markdown",
   "id": "b913f528-2845-46af-8f7e-3411e59ccba3",
   "metadata": {},
   "source": [
    "### Can we do DataFusion?"
   ]
  },
  {
   "cell_type": "code",
   "execution_count": 19,
   "id": "7c65a98d-8ccf-4995-a3e4-9af420c3bf03",
   "metadata": {},
   "outputs": [
    {
     "data": {
      "text/plain": [
       "'45.2.0'"
      ]
     },
     "execution_count": 19,
     "metadata": {},
     "output_type": "execute_result"
    }
   ],
   "source": [
    "datafusion.__version__"
   ]
  },
  {
   "cell_type": "code",
   "execution_count": 20,
   "id": "6e249cc7-78f5-451d-9aeb-6545f3d988de",
   "metadata": {},
   "outputs": [],
   "source": [
    "from datafusion import SessionContext"
   ]
  },
  {
   "cell_type": "code",
   "execution_count": 21,
   "id": "f8c3ee5a-a062-479e-84d8-aab401608df6",
   "metadata": {},
   "outputs": [],
   "source": [
    "ctx = SessionContext()"
   ]
  },
  {
   "cell_type": "code",
   "execution_count": 36,
   "id": "9d7912b4-c110-4a7a-b89a-d464eb82a911",
   "metadata": {},
   "outputs": [
    {
     "name": "stdout",
     "output_type": "stream",
     "text": [
      "DataFrame()\n",
      "+----+---------------------------+--------+--------+-------+----+--------+---------+---------+---------+-------+------------+-----------+\n",
      "| #  | Name                      | Type 1 | Type 2 | Total | HP | Attack | Defense | Sp. Atk | Sp. Def | Speed | Generation | Legendary |\n",
      "+----+---------------------------+--------+--------+-------+----+--------+---------+---------+---------+-------+------------+-----------+\n",
      "| 1  | Bulbasaur                 | Grass  | Poison | 318   | 45 | 49     | 49      | 65      | 65      | 45    | 1          | false     |\n",
      "| 2  | Ivysaur                   | Grass  | Poison | 405   | 60 | 62     | 63      | 80      | 80      | 60    | 1          | false     |\n",
      "| 3  | Venusaur                  | Grass  | Poison | 525   | 80 | 82     | 83      | 100     | 100     | 80    | 1          | false     |\n",
      "| 3  | VenusaurMega Venusaur     | Grass  | Poison | 625   | 80 | 100    | 123     | 122     | 120     | 80    | 1          | false     |\n",
      "| 4  | Charmander                | Fire   |        | 309   | 39 | 52     | 43      | 60      | 50      | 65    | 1          | false     |\n",
      "| 5  | Charmeleon                | Fire   |        | 405   | 58 | 64     | 58      | 80      | 65      | 80    | 1          | false     |\n",
      "| 6  | Charizard                 | Fire   | Flying | 534   | 78 | 84     | 78      | 109     | 85      | 100   | 1          | false     |\n",
      "| 6  | CharizardMega Charizard X | Fire   | Dragon | 634   | 78 | 130    | 111     | 130     | 85      | 100   | 1          | false     |\n",
      "| 6  | CharizardMega Charizard Y | Fire   | Flying | 634   | 78 | 104    | 78      | 159     | 115     | 100   | 1          | false     |\n",
      "| 7  | Squirtle                  | Water  |        | 314   | 44 | 48     | 65      | 50      | 64      | 43    | 1          | false     |\n",
      "| 8  | Wartortle                 | Water  |        | 405   | 59 | 63     | 80      | 65      | 80      | 58    | 1          | false     |\n",
      "| 9  | Blastoise                 | Water  |        | 530   | 79 | 83     | 100     | 85      | 105     | 78    | 1          | false     |\n",
      "| 9  | BlastoiseMega Blastoise   | Water  |        | 630   | 79 | 103    | 120     | 135     | 115     | 78    | 1          | false     |\n",
      "| 10 | Caterpie                  | Bug    |        | 195   | 45 | 30     | 35      | 20      | 20      | 45    | 1          | false     |\n",
      "| 11 | Metapod                   | Bug    |        | 205   | 50 | 20     | 55      | 25      | 25      | 30    | 1          | false     |\n",
      "| 12 | Butterfree                | Bug    | Flying | 395   | 60 | 45     | 50      | 90      | 80      | 70    | 1          | false     |\n",
      "| 13 | Weedle                    | Bug    | Poison | 195   | 40 | 35     | 30      | 20      | 20      | 50    | 1          | false     |\n",
      "| 14 | Kakuna                    | Bug    | Poison | 205   | 45 | 25     | 50      | 25      | 25      | 35    | 1          | false     |\n",
      "| 15 | Beedrill                  | Bug    | Poison | 395   | 65 | 90     | 40      | 45      | 80      | 75    | 1          | false     |\n",
      "| 15 | BeedrillMega Beedrill     | Bug    | Poison | 495   | 65 | 150    | 40      | 15      | 80      | 145   | 1          | false     |\n",
      "+----+---------------------------+--------+--------+-------+----+--------+---------+---------+---------+-------+------------+-----------+\n"
     ]
    }
   ],
   "source": [
    "df = ctx.read_csv(\"pokemon.csv\")\n",
    "df.show()"
   ]
  },
  {
   "cell_type": "code",
   "execution_count": 40,
   "id": "18fd038b-8264-41b3-b24e-39adb3f62e48",
   "metadata": {},
   "outputs": [],
   "source": [
    "# Limitation: We currently only support a single batch — we probably want to allow streaming multiple batches in the future.\n",
    "client.send_table(\"Hello from Datafusion\", df.collect()[0])"
   ]
  },
  {
   "cell_type": "markdown",
   "id": "2610d5a6-8b18-487c-aa59-5f6fda2bc8b7",
   "metadata": {},
   "source": [
    "### Next?\n",
    "\n",
    "* Finish everything\n",
    "  * show_notebook\n",
    "  * still some bugs\n",
    "  * UI problems around closing recordings\n",
    " \n"
   ]
  },
  {
   "cell_type": "code",
   "execution_count": null,
   "id": "229d1794-9cb8-43eb-9655-522c687f1a09",
   "metadata": {},
   "outputs": [],
   "source": [
    "### Stretch\n",
    "* Make `TableStore` a Datafusion provider\n",
    "* Show summary statistics ala DuckDb UI"
   ]
  }
 ],
 "metadata": {
  "kernelspec": {
   "display_name": "Python 3 (ipykernel)",
   "language": "python",
   "name": "python3"
  },
  "language_info": {
   "codemirror_mode": {
    "name": "ipython",
    "version": 3
   },
   "file_extension": ".py",
   "mimetype": "text/x-python",
   "name": "python",
   "nbconvert_exporter": "python",
   "pygments_lexer": "ipython3",
   "version": "3.11.10"
  }
 },
 "nbformat": 4,
 "nbformat_minor": 5
}
