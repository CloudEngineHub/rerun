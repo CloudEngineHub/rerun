{
	"cells": [
		{
			"cell_type": "code",
			"execution_count": null,
			"metadata": {},
			"outputs": [],
			"source": [
				"from rerun_notebook import Viewer\n",
				"\n",
				"Viewer(\n",
				"  url=\"https://app.rerun.io/version/nightly/examples/raw_mesh.rrd\",\n",
				"  panel_states={\n",
				"    'blueprint': 'hidden',\n",
				"    'selection': 'hidden',\n",
				"    'time': 'collapsed',\n",
				"  }\n",
				")"
			]
		}
	],
	"metadata": {
		"kernelspec": {
			"display_name": ".venv",
			"language": "python",
			"name": "python3"
		},
		"language_info": {
			"codemirror_mode": {
				"name": "ipython",
				"version": 3
			},
			"file_extension": ".py",
			"mimetype": "text/x-python",
			"name": "python",
			"nbconvert_exporter": "python",
			"pygments_lexer": "ipython3",
			"version": "3.10.12"
		}
	},
	"nbformat": 4,
	"nbformat_minor": 2
}
